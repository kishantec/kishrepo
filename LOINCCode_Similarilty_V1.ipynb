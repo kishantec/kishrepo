{
  "cells": [
    {
      "cell_type": "code",
      "execution_count": 2,
      "metadata": {
        "colab": {
          "base_uri": "https://localhost:8080/"
        },
        "id": "e6pIS4rH9QRL",
        "outputId": "74c8bbb9-f7d8-4c59-ed25-3e75fb292c8f"
      },
      "outputs": [
        {
          "name": "stderr",
          "output_type": "stream",
          "text": [
            "C:\\Users\\devadmin\\AppData\\Local\\Temp\\ipykernel_9424\\2049751462.py:6: DtypeWarning: Columns (14) have mixed types. Specify dtype option on import or set low_memory=False.\n",
            "  df=pd.read_csv(\"LoincTableCore.csv\")\n",
            "C:\\Users\\devadmin\\AppData\\Local\\Temp\\ipykernel_9424\\2049751462.py:12: FutureWarning: A value is trying to be set on a copy of a DataFrame or Series through chained assignment using an inplace method.\n",
            "The behavior will change in pandas 3.0. This inplace method will never work because the intermediate object on which we are setting values always behaves as a copy.\n",
            "\n",
            "For example, when doing 'df[col].method(value, inplace=True)', try using 'df.method({col: value}, inplace=True)' or df[col] = df[col].method(value) instead, to perform the operation inplace on the original object.\n",
            "\n",
            "\n",
            "  df['SHORTNAME'].fillna('UNKNOWN',inplace=True)\n"
          ]
        }
      ],
      "source": [
        "import pandas as pd\n",
        "from sklearn.feature_extraction.text import TfidfVectorizer\n",
        "from sklearn.metrics.pairwise import cosine_similarity\n",
        "\n",
        "# Load dataframe\n",
        "df=pd.read_csv(\"LoincTableCore.csv\")\n",
        "df = df[df['STATUS']=='ACTIVE']\n",
        "\n",
        "# Preprocess LOINC descriptions\n",
        "df[['LONG_COMMON_NAME','SHORTNAME']]=df[['LONG_COMMON_NAME','SHORTNAME']].apply(lambda x:x.str.lower())\n",
        "\n",
        "df['SHORTNAME'].fillna('UNKNOWN',inplace=True)\n",
        "\n",
        "# Vectorize text\n",
        "tfidf_vectorizer = TfidfVectorizer()\n",
        "tfidf_matrix = tfidf_vectorizer.fit_transform(df['LONG_COMMON_NAME'])\n",
        "\n",
        "\n"
      ]
    },
    {
      "cell_type": "code",
      "execution_count": 5,
      "metadata": {
        "colab": {
          "base_uri": "https://localhost:8080/"
        },
        "id": "2QJglqLM9hwf",
        "outputId": "45cd3ff9-536a-4d10-e2f6-7561d16f4632"
      },
      "outputs": [
        {
          "name": "stdout",
          "output_type": "stream",
          "text": [
            "                                 LONG_COMMON_NAME LOINC_NUM  similarity\n",
            "31657  measles virus igg and igm qn panel - serum   34948-0    0.398438\n",
            "19127                 glucose in csf/glucose plas    2352-3    0.376574\n",
            "41641                                    pt heart   44137-8    0.322650\n",
            "88786            sodium [mass/volume] in specimen   87451-1    0.303413\n",
            "41642                                    pt brain   44138-6    0.299381\n",
            "56809                                     pt lung   57822-9    0.297614\n",
            "25568              sodium [moles/volume] in blood    2947-0    0.295425\n",
            "25660              sodium [moles/volume] in urine    2955-3    0.295299\n",
            "28758           sodium [moles/volume] in specimen   32340-2    0.292387\n",
            "25615    sodium [moles/volume] in serum or plasma    2951-2    0.277924\n"
          ]
        }
      ],
      "source": [
        "# Input text\n",
        "input_text = \"SODIUM:SCNC:PT:SER/PLAS:QN\"\n",
        "processed_input_text = input_text.lower()\n",
        "input_vector = tfidf_vectorizer.transform([processed_input_text])\n",
        "\n",
        "\n",
        "cosine_similarities = cosine_similarity(input_vector, tfidf_matrix).flatten()\n",
        "\n",
        "\n",
        "df['similarity'] = cosine_similarities\n",
        "sorted_df = df.sort_values(by='similarity', ascending=False)\n",
        "\n",
        "top_matches = sorted_df.head(10)  \n",
        "print(top_matches[['LONG_COMMON_NAME', 'LOINC_NUM', 'similarity']])"
      ]
    }
  ],
  "metadata": {
    "accelerator": "GPU",
    "colab": {
      "gpuType": "T4",
      "provenance": []
    },
    "kernelspec": {
      "display_name": "Python 3",
      "name": "python3"
    },
    "language_info": {
      "codemirror_mode": {
        "name": "ipython",
        "version": 3
      },
      "file_extension": ".py",
      "mimetype": "text/x-python",
      "name": "python",
      "nbconvert_exporter": "python",
      "pygments_lexer": "ipython3",
      "version": "3.11.0"
    }
  },
  "nbformat": 4,
  "nbformat_minor": 0
}
